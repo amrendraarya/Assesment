{
 "cells": [
  {
   "cell_type": "markdown",
   "metadata": {},
   "source": [
    "#  `` Encoding Categorical Columns With Lot of Unique Value ``\n",
    "\n"
   ]
  },
  {
   "cell_type": "markdown",
   "metadata": {},
   "source": [
    "### Approach \n",
    " To deal with such type of issue.I would do clustering of the categorical column."
   ]
  },
  {
   "cell_type": "code",
   "execution_count": 1,
   "metadata": {},
   "outputs": [],
   "source": [
    "def encoder(df):\n",
    "    y=list(df.columns)\n",
    "    ls=[]\n",
    "    ls1=[]\n",
    "    for i in range(len(df.columns)):\n",
    "        if df[y[i]].dtype== object:\n",
    "            ls1.append(i)\n",
    "        else:\n",
    "            ls.append(i)\n",
    "    column_=(df.iloc[:,ls1]).columns\n",
    "    categorical_feature_mask = df.dtypes==object\n",
    "    categorical_cols = df.columns[categorical_feature_mask].tolist()\n",
    "    df2=(df.iloc[:,ls])\n",
    "    column1_=list(df2.columns)\n",
    "    from sklearn.preprocessing import LabelEncoder\n",
    "    le = LabelEncoder()\n",
    "    df[categorical_cols] = df[categorical_cols].apply(lambda col: le.fit_transform(col))\n",
    "    X=[]\n",
    "    for ran in range(len(ls1)):\n",
    "        X.append(np.array(df[y[ls1[ran]]]).reshape(-1,1))\n",
    "    from sklearn.cluster import KMeans\n",
    "    kmeans = KMeans(n_clusters=4, init='k-means++', max_iter=300, n_init=10, random_state=0)\n",
    "    Prediction=[]\n",
    "    for i in range(len(X)):  \n",
    "        pred_y=kmeans.fit_predict(X[i])\n",
    "        Prediction.append((pred_y))\n",
    "\n",
    "    df1=(pd.DataFrame(Prediction)).T\n",
    "    df1.columns=column_\n",
    "\n",
    "    return(pd.concat([df1,df2],axis=1))"
   ]
  },
  {
   "cell_type": "code",
   "execution_count": null,
   "metadata": {},
   "outputs": [],
   "source": []
  }
 ],
 "metadata": {
  "kernelspec": {
   "display_name": "Python 3",
   "language": "python",
   "name": "python3"
  },
  "language_info": {
   "codemirror_mode": {
    "name": "ipython",
    "version": 3
   },
   "file_extension": ".py",
   "mimetype": "text/x-python",
   "name": "python",
   "nbconvert_exporter": "python",
   "pygments_lexer": "ipython3",
   "version": "3.7.4"
  }
 },
 "nbformat": 4,
 "nbformat_minor": 2
}
